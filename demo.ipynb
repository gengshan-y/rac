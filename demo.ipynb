{
 "cells": [
  {
   "cell_type": "code",
   "execution_count": 1,
   "metadata": {},
   "outputs": [
    {
     "name": "stdout",
     "output_type": "stream",
     "text": [
      "Loaded compiled 3D CUDA chamfer distance\n"
     ]
    }
   ],
   "source": [
    "import os\n",
    "os.environ[\"PYOPENGL_PLATFORM\"] = \"egl\" #opengl seems to only work with TPU\n",
    "\n",
    "import time\n",
    "from absl import flags, app\n",
    "import sys\n",
    "sys.path.insert(0,'third_party')\n",
    "import numpy as np\n",
    "import torch\n",
    "import torchvision\n",
    "import glob\n",
    "import pdb\n",
    "import cv2\n",
    "import trimesh\n",
    "from scipy.spatial.transform import Rotation as R\n",
    "import imageio\n",
    "import pyrender\n",
    "from nnutils.train_utils import v2s_trainer\n",
    "from nnutils.geom_utils import extract_mesh_simp, zero_to_rest_bone, \\\n",
    "                                zero_to_rest_dpose, skinning, lbs, se3exp_to_vec\n",
    "from utils.io import save_vid, str_to_frame, save_bones, bones_to_mesh\n",
    "from explore import get_center_crop, render_mesh\n",
    "\n",
    "opts = flags.FLAGS"
   ]
  },
  {
   "cell_type": "code",
   "execution_count": 2,
   "metadata": {},
   "outputs": [],
   "source": [
    "logdir='logdir/dog80-v0/'\n",
    "seqname='dog80'"
   ]
  },
  {
   "cell_type": "code",
   "execution_count": 3,
   "metadata": {},
   "outputs": [],
   "source": [
    "# load flags\n",
    "args = opts.read_flags_from_files(['--flagfile=%s/opts.log'%logdir, \n",
    "                                   '--nolineloade',\n",
    "                                   'seqname=%s'%seqname, \n",
    "                                   '--full_mesh', \n",
    "                                   '--noce_color', \n",
    "                                   ])\n",
    "unknown_flags, unparsed_args = opts._parse_args(args, known_only=True)\n",
    "opts.mark_as_parsed()\n",
    "opts.validate_all_flags()"
   ]
  },
  {
   "cell_type": "code",
   "execution_count": 4,
   "metadata": {},
   "outputs": [],
   "source": [
    "from IPython.utils import io\n",
    "with io.capture_output() as captured:\n",
    "    # to avoid output oflow out of the box\n",
    "    if opts.logname not in opts.model_path:\n",
    "        opts.model_path = 'logdir/%s/params_latest.pth'%opts.logname\n",
    "    os.mkdir('tmp') if not os.path.exists('tmp') else None\n",
    "    trainer = v2s_trainer(opts, is_eval=True)\n",
    "    data_info = trainer.init_dataset()\n",
    "    trainer.define_model(data_info)\n",
    "    seqname=opts.seqname\n",
    "\n",
    "    model = trainer.model\n",
    "    model.eval()"
   ]
  },
  {
   "cell_type": "code",
   "execution_count": 5,
   "metadata": {},
   "outputs": [],
   "source": [
    "# params\n",
    "img_size = 256\n",
    "grid_size= 64\n",
    "\n",
    "show_rest_pose = False\n",
    "show_deform = False\n",
    "apply_lbs = True\n",
    "mlp_deform = False\n",
    "\n",
    "\n",
    "cam_offset = np.asarray([0,0,0.6])\n",
    "\n",
    "focal_fac = 3\n",
    "\n",
    "renderer = pyrender.OffscreenRenderer(img_size, img_size)"
   ]
  },
  {
   "cell_type": "code",
   "execution_count": 6,
   "metadata": {},
   "outputs": [],
   "source": [
    "import matplotlib\n",
    "fid = torch.Tensor(range(0,len(model.impath))).cuda().long()\n",
    "D=model.pose_code(fid)\n",
    "D = D.view(len(fid),-1)\n",
    "Dmean=D.mean(0)[None]\n",
    "\n",
    "D = D-Dmean\n",
    "A = D.T.matmul(D)/D.shape[0] # fxf\n",
    "U,S,V=torch.svd(A) #\n",
    "code_proj_3d=D.matmul(V[:,:3])\n",
    "time = np.asarray(range(len(model.impath)))\n",
    "time = time/time.max()\n",
    "code_proj_3d=code_proj_3d.detach().cpu().numpy()"
   ]
  },
  {
   "cell_type": "code",
   "execution_count": 7,
   "metadata": {},
   "outputs": [],
   "source": [
    "def plot(vidid, frameid, angle, xcrd, ycrd):\n",
    "    with torch.no_grad():\n",
    "        # randomly sample code beta\n",
    "        embedid=frameid\n",
    "        canonical_rot = cv2.Rodrigues(np.asarray([0,np.pi/3-np.pi*angle/180,0]))[0]\n",
    "\n",
    "        # get target image\n",
    "        img_path = data_info['impath'][embedid]\n",
    "        target_img = get_center_crop(img_path, img_size=img_size//4)\n",
    "\n",
    "        # get mesh\n",
    "        #vidid=14\n",
    "        beta_code = model.nerf_coarse.vid_code.weight\n",
    "        mesh_rest = extract_mesh_simp(model, opts.chunk, \\\n",
    "                    grid_size, 0, vidid=vidid, is_eval=False, beta=beta_code[vidid])\n",
    "        num_pts = mesh_rest.vertices.shape[0]\n",
    "\n",
    "        # stretch + lbs: mesh to mesh\n",
    "        query_vidid = vidid*torch.ones(1).long().to(model.device)\n",
    "        pts_can=torch.Tensor(mesh_rest.vertices).to(model.device)\n",
    "        pts_can = pts_can[:,None]\n",
    "        query_time = torch.ones(1,1).long().to(model.device)*embedid\n",
    "\n",
    "        #jlen_scale = model.nerf_body_rts.compute_jlen_scale(query_vidid)\n",
    "        jlen_scale = model.nerf_body_rts.jlen_scale_z + model.nerf_body_rts.jlen_scale[vidid]\n",
    "        sim3=model.nerf_body_rts.sim3+model.nerf_body_rts.sim3_vid[vidid]\n",
    "        sim3[:7] = model.nerf_body_rts.sim3[:7]\n",
    "        sim3=sim3[None]\n",
    "        \n",
    "        # zero-to-rest\n",
    "        bones_rst, bone_rts_rst = zero_to_rest_bone(model, model.bones)\n",
    "\n",
    "        # stretch + fk\n",
    "        #show_rest_pose=True #TODO\n",
    "        if xcrd==0 and ycrd==0:\n",
    "            if show_rest_pose:\n",
    "                query_code = torch.zeros(1,opts.t_embed_dim).to(model.device)\n",
    "            else:\n",
    "                query_code = model.nerf_body_rts.pose_code(query_time)\n",
    "        else:\n",
    "            query_code = torch.Tensor([xcrd,ycrd]).to(model.device)\n",
    "            query_code = query_code[None] @ V[:,:2].T + Dmean\n",
    "        \n",
    "        bone_rts_fw = model.nerf_body_rts.forward_decode(query_code,\n",
    "                                query_vidid, show_rest_pose=show_rest_pose,\n",
    "            jlen_scale_in=jlen_scale, sim3_in=sim3)\n",
    "        bone_rts_fw = zero_to_rest_dpose(opts, bone_rts_fw, bone_rts_rst)\n",
    "        bone_rts_fw = bone_rts_fw.repeat(num_pts, 1,1)\n",
    "\n",
    "        # skin\n",
    "        rest_pose_code = model.rest_pose_code(torch.Tensor([0]).long().to(model.device))\n",
    "        skin_forward,_ = skinning(pts_can, model.embedding_xyz, bones_rst,\n",
    "                            rest_pose_code, model.nerf_skin)\n",
    "\n",
    "        # dqs\n",
    "        pts_dfm,bones_dfm = lbs(bones_rst, bone_rts_fw, skin_forward,\n",
    "                pts_can,backward=False)\n",
    "\n",
    "        # re-create mesh\n",
    "        mesh_dfm = trimesh.Trimesh( pts_dfm[:,0].cpu().numpy(), mesh_rest.faces,\n",
    "                                vertex_colors=mesh_rest.visual.vertex_colors)\n",
    "        \n",
    "        color = render_mesh(renderer, mesh_dfm, canonical_rot, cam_offset, focal_fac, img_size)\n",
    "\n",
    "        # get joint vis\n",
    "        joints,_ = model.nerf_body_rts.forward_abs(x=query_time,vid=query_vidid,\n",
    "                show_rest_pose=show_rest_pose,\n",
    "                jlen_scale_in=jlen_scale, sim3_in=sim3)\n",
    "        joints = joints.view(1,-1,12)\n",
    "        joints = torch.cat([joints[:,:,:9].view(1,-1,3,3),\n",
    "                            joints[:,:,9:].view(1,-1,3,1)],-1)\n",
    "        joints = se3exp_to_vec(joints[0]).cpu().numpy()\n",
    "        joint_mesh = bones_to_mesh(joints, 0.1, parent=model.robot.urdf.parent_idx)\n",
    "\n",
    "        j_col = render_mesh(renderer, joint_mesh, canonical_rot, cam_offset, focal_fac, img_size)\n",
    "\n",
    "    plt.plot(code_proj_3d[:,0], code_proj_3d[:,1], marker='.', color='g', linestyle='None')\n",
    "    plt.plot(xcrd, ycrd, color='r', marker='x')\n",
    "\n",
    "    fig = plt.gcf()\n",
    "    fig.canvas.draw()\n",
    "    plot = np.frombuffer(fig.canvas.tostring_rgb(), dtype=np.uint8)\n",
    "    plot = plot.reshape(fig.canvas.get_width_height()[::-1] + (3,))\n",
    "    plot = cv2.resize(plot, (img_size,img_size))\n",
    "\n",
    "    images = [target_img/255, color/255, j_col/255, plot/255]\n",
    "    #images = [target_img/255, color/255]\n",
    "    \n",
    "    mediapy.show_images(images)"
   ]
  },
  {
   "cell_type": "code",
   "execution_count": 8,
   "metadata": {},
   "outputs": [
    {
     "data": {
      "application/vnd.jupyter.widget-view+json": {
       "model_id": "ef54602e69cd4f4586c671bad88d196f",
       "version_major": 2,
       "version_minor": 0
      },
      "text/plain": [
       "Output(layout=Layout(height='384px'))"
      ]
     },
     "metadata": {},
     "output_type": "display_data"
    },
    {
     "data": {
      "application/vnd.jupyter.widget-view+json": {
       "model_id": "ef2105d68cca4ed4af03cf902653bc8a",
       "version_major": 2,
       "version_minor": 0
      },
      "text/plain": [
       "GridspecLayout(children=(IntSlider(value=0, description='Video id', layout=Layout(grid_area='widget001'), max=…"
      ]
     },
     "metadata": {},
     "output_type": "display_data"
    }
   ],
   "source": [
    "import ipywidgets as widgets\n",
    "from ipywidgets import GridspecLayout\n",
    "import mediapy\n",
    "%matplotlib inline\n",
    "from matplotlib import pyplot as plt\n",
    "plt.ioff()\n",
    "import matplotlib\n",
    "cmap = matplotlib.cm.get_cmap('cool')\n",
    "\n",
    "vidid = widgets.IntSlider(min=0,max=model.num_vid,step=1, description=\"Video id\")\n",
    "frameid = widgets.IntSlider(min=0,max=model.num_fr,step=1, description=\"Frame id\")\n",
    "angle = widgets.IntSlider(min=0,max=360, step=1, description=\"Angle\")\n",
    "xcrd = widgets.FloatSlider(min=-3,max=3,step=0.1, description=\"X-coord\")\n",
    "ycrd = widgets.FloatSlider(min=-3,max=3, step=0.1, description=\"Y-coord\")\n",
    "\n",
    "# layout\n",
    "ui = GridspecLayout(3, 2)\n",
    "ui[0,0]=vidid\n",
    "ui[1,0]=frameid\n",
    "ui[2,0]=angle\n",
    "ui[0,1]=xcrd\n",
    "ui[1,1]=ycrd\n",
    "ui.width='%dpx'%(img_size*3)\n",
    "\n",
    "out = widgets.interactive_output(plot, {'vidid':vidid, 'frameid': frameid, 'angle': angle, 'xcrd': xcrd, 'ycrd': ycrd})\n",
    "out.layout.height = '%dpx'%(img_size*1.5)\n",
    "\n",
    "display(out, ui)"
   ]
  },
  {
   "cell_type": "code",
   "execution_count": null,
   "metadata": {},
   "outputs": [],
   "source": []
  }
 ],
 "metadata": {
  "kernelspec": {
   "display_name": "Python 3 (ipykernel)",
   "language": "python",
   "name": "python3"
  },
  "language_info": {
   "codemirror_mode": {
    "name": "ipython",
    "version": 3
   },
   "file_extension": ".py",
   "mimetype": "text/x-python",
   "name": "python",
   "nbconvert_exporter": "python",
   "pygments_lexer": "ipython3",
   "version": "3.9.10"
  },
  "vscode": {
   "interpreter": {
    "hash": "263f221de11323ea7b19cc67f19158b02f568fd3306831ca42b304ecca1cb3bf"
   }
  }
 },
 "nbformat": 4,
 "nbformat_minor": 4
}
